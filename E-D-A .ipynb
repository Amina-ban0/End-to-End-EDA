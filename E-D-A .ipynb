{
 "cells": [
  {
   "cell_type": "markdown",
   "metadata": {},
   "source": [
    "# Table of Content"
   ]
  },
  {
   "cell_type": "markdown",
   "metadata": {},
   "source": [
    "* __Step 1: Importing the Relevant Libraries__\n",
    "    \n",
    "* __Step 2: Data Inspection__\n",
    "    \n",
    "* __Step 3: Data Cleaning__\n",
    "    \n",
    "* __Step 4: Exploratory Data Analysis__\n",
    "    \n",
    "* __Step 5: Building Model__"
   ]
  },
  {
   "cell_type": "code",
   "execution_count": null,
   "metadata": {},
   "outputs": [],
   "source": []
  },
  {
   "cell_type": "markdown",
   "metadata": {},
   "source": [
    "Step 1: Importing the Relevant Libraries"
   ]
  },
  {
   "cell_type": "code",
   "execution_count": 3,
   "metadata": {},
   "outputs": [],
   "source": [
    "import matplotlib.pyplot as plt\n",
    "import pandas as pd\n",
    "import numpy as np\n",
    "import seaborn as sns\n",
    "\n",
    "from sklearn.preprocessing import LabelEncoder\n",
    "from sklearn.model_selection import train_test_split\n",
    "from sklearn import metrics\n",
    "from sklearn.linear_model import LinearRegression\n",
    "\n",
    "import warnings\n",
    "warnings.filterwarnings('always')\n",
    "warnings.filterwarnings('ignore')"
   ]
  },
  {
   "cell_type": "markdown",
   "metadata": {},
   "source": [
    "Step 2: Data Inspection"
   ]
  },
  {
   "cell_type": "code",
   "execution_count": 4,
   "metadata": {},
   "outputs": [
    {
     "data": {
      "text/html": [
       "<div>\n",
       "<style scoped>\n",
       "    .dataframe tbody tr th:only-of-type {\n",
       "        vertical-align: middle;\n",
       "    }\n",
       "\n",
       "    .dataframe tbody tr th {\n",
       "        vertical-align: top;\n",
       "    }\n",
       "\n",
       "    .dataframe thead th {\n",
       "        text-align: right;\n",
       "    }\n",
       "</style>\n",
       "<table border=\"1\" class=\"dataframe\">\n",
       "  <thead>\n",
       "    <tr style=\"text-align: right;\">\n",
       "      <th></th>\n",
       "      <th>id</th>\n",
       "      <th>followup_date</th>\n",
       "      <th>lead_created_at</th>\n",
       "      <th>leadId</th>\n",
       "      <th>followup_type</th>\n",
       "      <th>agentId</th>\n",
       "      <th>additional_data</th>\n",
       "    </tr>\n",
       "  </thead>\n",
       "  <tbody>\n",
       "    <tr>\n",
       "      <th>0</th>\n",
       "      <td>1</td>\n",
       "      <td>2020-03-05 14:38:54</td>\n",
       "      <td>2019-11-04 16:12:00-05:00</td>\n",
       "      <td>20293</td>\n",
       "      <td>calls</td>\n",
       "      <td>10</td>\n",
       "      <td>{'duration': 0, 'is_incoming': False}</td>\n",
       "    </tr>\n",
       "    <tr>\n",
       "      <th>1</th>\n",
       "      <td>2</td>\n",
       "      <td>2020-03-05 14:38:55</td>\n",
       "      <td>2019-11-04 16:12:00-05:00</td>\n",
       "      <td>20293</td>\n",
       "      <td>calls</td>\n",
       "      <td>10</td>\n",
       "      <td>{'duration': 0, 'is_incoming': False}</td>\n",
       "    </tr>\n",
       "    <tr>\n",
       "      <th>2</th>\n",
       "      <td>3</td>\n",
       "      <td>2020-01-06 19:11:39</td>\n",
       "      <td>2019-12-26 08:30:32-05:00</td>\n",
       "      <td>49122</td>\n",
       "      <td>calls</td>\n",
       "      <td>4</td>\n",
       "      <td>{'duration': 91, 'is_incoming': False}</td>\n",
       "    </tr>\n",
       "    <tr>\n",
       "      <th>3</th>\n",
       "      <td>4</td>\n",
       "      <td>2020-08-31 13:12:53</td>\n",
       "      <td>2020-08-30 19:39:18-04:00</td>\n",
       "      <td>58040</td>\n",
       "      <td>calls</td>\n",
       "      <td>9</td>\n",
       "      <td>{'duration': 0, 'is_incoming': False}</td>\n",
       "    </tr>\n",
       "    <tr>\n",
       "      <th>4</th>\n",
       "      <td>5</td>\n",
       "      <td>2020-10-14 14:47:23</td>\n",
       "      <td>2017-01-28 11:04:00-05:00</td>\n",
       "      <td>36567</td>\n",
       "      <td>calls</td>\n",
       "      <td>9</td>\n",
       "      <td>{'duration': 0, 'is_incoming': False}</td>\n",
       "    </tr>\n",
       "  </tbody>\n",
       "</table>\n",
       "</div>"
      ],
      "text/plain": [
       "   id        followup_date            lead_created_at  leadId followup_type  \\\n",
       "0   1  2020-03-05 14:38:54  2019-11-04 16:12:00-05:00   20293         calls   \n",
       "1   2  2020-03-05 14:38:55  2019-11-04 16:12:00-05:00   20293         calls   \n",
       "2   3  2020-01-06 19:11:39  2019-12-26 08:30:32-05:00   49122         calls   \n",
       "3   4  2020-08-31 13:12:53  2020-08-30 19:39:18-04:00   58040         calls   \n",
       "4   5  2020-10-14 14:47:23  2017-01-28 11:04:00-05:00   36567         calls   \n",
       "\n",
       "   agentId                         additional_data  \n",
       "0       10   {'duration': 0, 'is_incoming': False}  \n",
       "1       10   {'duration': 0, 'is_incoming': False}  \n",
       "2        4  {'duration': 91, 'is_incoming': False}  \n",
       "3        9   {'duration': 0, 'is_incoming': False}  \n",
       "4        9   {'duration': 0, 'is_incoming': False}  "
      ]
     },
     "execution_count": 4,
     "metadata": {},
     "output_type": "execute_result"
    }
   ],
   "source": [
    "train = pd.read_csv(\"agent_followup_data - Dataset.csv\")\n",
    "train.head()"
   ]
  },
  {
   "cell_type": "code",
   "execution_count": 5,
   "metadata": {},
   "outputs": [
    {
     "data": {
      "text/plain": [
       "(68354, 7)"
      ]
     },
     "execution_count": 5,
     "metadata": {},
     "output_type": "execute_result"
    }
   ],
   "source": [
    "train.shape"
   ]
  },
  {
   "cell_type": "markdown",
   "metadata": {},
   "source": [
    "* __We have 68354 rows and 7 columns in Train set whereas Test set has 5681 rows and 11 columns.__"
   ]
  },
  {
   "cell_type": "markdown",
   "metadata": {},
   "source": [
    "Step 3: Data Cleaning"
   ]
  },
  {
   "cell_type": "code",
   "execution_count": 6,
   "metadata": {},
   "outputs": [
    {
     "data": {
      "text/plain": [
       "id                 0\n",
       "followup_date      0\n",
       "lead_created_at    0\n",
       "leadId             0\n",
       "followup_type      0\n",
       "agentId            0\n",
       "additional_data    0\n",
       "dtype: int64"
      ]
     },
     "execution_count": 6,
     "metadata": {},
     "output_type": "execute_result"
    }
   ],
   "source": [
    "#ratio of null values\n",
    "train.isnull().sum()"
   ]
  },
  {
   "cell_type": "code",
   "execution_count": 7,
   "metadata": {},
   "outputs": [
    {
     "data": {
      "text/plain": [
       "Index(['id', 'followup_date', 'lead_created_at', 'leadId', 'followup_type',\n",
       "       'agentId', 'additional_data'],\n",
       "      dtype='object')"
      ]
     },
     "execution_count": 7,
     "metadata": {},
     "output_type": "execute_result"
    }
   ],
   "source": [
    "train.columns"
   ]
  },
  {
   "cell_type": "code",
   "execution_count": 8,
   "metadata": {},
   "outputs": [
    {
     "data": {
      "text/html": [
       "<div>\n",
       "<style scoped>\n",
       "    .dataframe tbody tr th:only-of-type {\n",
       "        vertical-align: middle;\n",
       "    }\n",
       "\n",
       "    .dataframe tbody tr th {\n",
       "        vertical-align: top;\n",
       "    }\n",
       "\n",
       "    .dataframe thead th {\n",
       "        text-align: right;\n",
       "    }\n",
       "</style>\n",
       "<table border=\"1\" class=\"dataframe\">\n",
       "  <thead>\n",
       "    <tr style=\"text-align: right;\">\n",
       "      <th></th>\n",
       "      <th>id</th>\n",
       "      <th>followup_date</th>\n",
       "      <th>lead_created_at</th>\n",
       "      <th>leadId</th>\n",
       "      <th>followup_type</th>\n",
       "      <th>agentId</th>\n",
       "      <th>additional_data</th>\n",
       "    </tr>\n",
       "  </thead>\n",
       "  <tbody>\n",
       "    <tr>\n",
       "      <th>0</th>\n",
       "      <td>1</td>\n",
       "      <td>2020-03-05 14:38:54</td>\n",
       "      <td>2019-11-04 16:12:00-05:00</td>\n",
       "      <td>20293</td>\n",
       "      <td>calls</td>\n",
       "      <td>10</td>\n",
       "      <td>{'duration': 0, 'is_incoming': False}</td>\n",
       "    </tr>\n",
       "    <tr>\n",
       "      <th>1</th>\n",
       "      <td>2</td>\n",
       "      <td>2020-03-05 14:38:55</td>\n",
       "      <td>2019-11-04 16:12:00-05:00</td>\n",
       "      <td>20293</td>\n",
       "      <td>calls</td>\n",
       "      <td>10</td>\n",
       "      <td>{'duration': 0, 'is_incoming': False}</td>\n",
       "    </tr>\n",
       "    <tr>\n",
       "      <th>2</th>\n",
       "      <td>3</td>\n",
       "      <td>2020-01-06 19:11:39</td>\n",
       "      <td>2019-12-26 08:30:32-05:00</td>\n",
       "      <td>49122</td>\n",
       "      <td>calls</td>\n",
       "      <td>4</td>\n",
       "      <td>{'duration': 91, 'is_incoming': False}</td>\n",
       "    </tr>\n",
       "    <tr>\n",
       "      <th>3</th>\n",
       "      <td>4</td>\n",
       "      <td>2020-08-31 13:12:53</td>\n",
       "      <td>2020-08-30 19:39:18-04:00</td>\n",
       "      <td>58040</td>\n",
       "      <td>calls</td>\n",
       "      <td>9</td>\n",
       "      <td>{'duration': 0, 'is_incoming': False}</td>\n",
       "    </tr>\n",
       "    <tr>\n",
       "      <th>4</th>\n",
       "      <td>5</td>\n",
       "      <td>2020-10-14 14:47:23</td>\n",
       "      <td>2017-01-28 11:04:00-05:00</td>\n",
       "      <td>36567</td>\n",
       "      <td>calls</td>\n",
       "      <td>9</td>\n",
       "      <td>{'duration': 0, 'is_incoming': False}</td>\n",
       "    </tr>\n",
       "  </tbody>\n",
       "</table>\n",
       "</div>"
      ],
      "text/plain": [
       "   id        followup_date            lead_created_at  leadId followup_type  \\\n",
       "0   1  2020-03-05 14:38:54  2019-11-04 16:12:00-05:00   20293         calls   \n",
       "1   2  2020-03-05 14:38:55  2019-11-04 16:12:00-05:00   20293         calls   \n",
       "2   3  2020-01-06 19:11:39  2019-12-26 08:30:32-05:00   49122         calls   \n",
       "3   4  2020-08-31 13:12:53  2020-08-30 19:39:18-04:00   58040         calls   \n",
       "4   5  2020-10-14 14:47:23  2017-01-28 11:04:00-05:00   36567         calls   \n",
       "\n",
       "   agentId                         additional_data  \n",
       "0       10   {'duration': 0, 'is_incoming': False}  \n",
       "1       10   {'duration': 0, 'is_incoming': False}  \n",
       "2        4  {'duration': 91, 'is_incoming': False}  \n",
       "3        9   {'duration': 0, 'is_incoming': False}  \n",
       "4        9   {'duration': 0, 'is_incoming': False}  "
      ]
     },
     "execution_count": 8,
     "metadata": {},
     "output_type": "execute_result"
    }
   ],
   "source": [
    "train.head()"
   ]
  },
  {
   "cell_type": "markdown",
   "metadata": {},
   "source": [
    "Step 4: Exploratory Data Analysis"
   ]
  },
  {
   "cell_type": "code",
   "execution_count": 9,
   "metadata": {},
   "outputs": [
    {
     "data": {
      "text/plain": [
       "emails          44757\n",
       "textmessages    20292\n",
       "calls            3305\n",
       "Name: followup_type, dtype: int64"
      ]
     },
     "execution_count": 9,
     "metadata": {},
     "output_type": "execute_result"
    }
   ],
   "source": [
    "train['followup_type'].value_counts()"
   ]
  },
  {
   "cell_type": "code",
   "execution_count": 10,
   "metadata": {},
   "outputs": [
    {
     "data": {
      "image/png": "[encoded data removed]",
      "text/plain": [
       "<Figure size 1800x504 with 1 Axes>"
      ]
     },
     "metadata": {
      "needs_background": "light"
     },
     "output_type": "display_data"
    }
   ],
   "source": [
    "plt.figure(figsize=(25,7))\n",
    "sns.countplot('followup_type',data=train,palette='ocean')\n",
    "plt.show()"
   ]
  },
  {
   "cell_type": "code",
   "execution_count": 11,
   "metadata": {},
   "outputs": [
    {
     "data": {
      "text/plain": [
       "followup_type  agentId\n",
       "calls          4           1087\n",
       "               9            814\n",
       "               10           647\n",
       "               8            293\n",
       "               6            210\n",
       "               7            183\n",
       "               2             65\n",
       "               5              6\n",
       "emails         5          11065\n",
       "               9           7292\n",
       "               4           7140\n",
       "               10          5630\n",
       "               7           5207\n",
       "               2           3706\n",
       "               6           2256\n",
       "               8           1945\n",
       "               3            516\n",
       "textmessages   4           7063\n",
       "               10          5378\n",
       "               6           3140\n",
       "               7           2429\n",
       "               9           1175\n",
       "               8            494\n",
       "               2            315\n",
       "               5            170\n",
       "               0            115\n",
       "               3             13\n",
       "Name: agentId, dtype: int64"
      ]
     },
     "execution_count": 11,
     "metadata": {},
     "output_type": "execute_result"
    }
   ],
   "source": [
    "No_of_follow_up = train.groupby(\"followup_type\")[\"agentId\"].value_counts()\n",
    "No_of_follow_up"
   ]
  },
  {
   "cell_type": "code",
   "execution_count": 12,
   "metadata": {},
   "outputs": [
    {
     "data": {
      "image/png": "[encoded data removed]",
      "text/plain": [
       "<Figure size 1080x576 with 1 Axes>"
      ]
     },
     "metadata": {
      "needs_background": "light"
     },
     "output_type": "display_data"
    }
   ],
   "source": [
    "plt.figure(figsize = (15,8))\n",
    "sns.countplot('followup_type',data=train,palette=\"winter\")\n",
    "plt.title(\"No. of agents on the follow_up type\",fontsize=18)\n",
    "plt.xlabel(\"followup_type\",fontsize=13)\n",
    "plt.ylabel('agentId',fontsize=13)\n",
    "plt.show()"
   ]
  },
  {
   "cell_type": "code",
   "execution_count": 13,
   "metadata": {},
   "outputs": [
    {
     "data": {
      "text/plain": [
       "{'is_incoming': False}                     48425\n",
       "{'is_incoming': True}                      16624\n",
       "{'duration': 0, 'is_incoming': False}       1230\n",
       "{'duration': 0, 'is_incoming': True}         202\n",
       "{'duration': 38, 'is_incoming': False}        33\n",
       "                                           ...  \n",
       "{'duration': 669, 'is_incoming': False}        1\n",
       "{'duration': 790, 'is_incoming': False}        1\n",
       "{'duration': 56, 'is_incoming': True}          1\n",
       "{'duration': 203, 'is_incoming': False}        1\n",
       "{'duration': 213, 'is_incoming': True}         1\n",
       "Name: additional_data, Length: 492, dtype: int64"
      ]
     },
     "execution_count": 13,
     "metadata": {},
     "output_type": "execute_result"
    }
   ],
   "source": [
    "train['additional_data'].value_counts()"
   ]
  },
  {
   "cell_type": "code",
   "execution_count": 14,
   "metadata": {},
   "outputs": [
    {
     "data": {
      "text/plain": [
       "0         {'duration': 0, 'is_incoming': False}\n",
       "1         {'duration': 0, 'is_incoming': False}\n",
       "2        {'duration': 91, 'is_incoming': False}\n",
       "3         {'duration': 0, 'is_incoming': False}\n",
       "4         {'duration': 0, 'is_incoming': False}\n",
       "                          ...                  \n",
       "68349                     {'is_incoming': True}\n",
       "68350                    {'is_incoming': False}\n",
       "68351                    {'is_incoming': False}\n",
       "68352                    {'is_incoming': False}\n",
       "68353                    {'is_incoming': False}\n",
       "Name: additional_data, Length: 68354, dtype: object"
      ]
     },
     "execution_count": 14,
     "metadata": {},
     "output_type": "execute_result"
    }
   ],
   "source": [
    "train['additional_data'].replace(['is_incoming','duration'],['is_incoming','duration'],inplace = True)\n",
    "train['additional_data'].replace(['is_incoming','duration'],['is_incoming','duration'],inplace = False)"
   ]
  },
  {
   "cell_type": "code",
   "execution_count": 15,
   "metadata": {},
   "outputs": [],
   "source": [
    "train['additional_data']= train['additional_data'].astype(str)"
   ]
  },
  {
   "cell_type": "code",
   "execution_count": 16,
   "metadata": {},
   "outputs": [
    {
     "data": {
      "text/plain": [
       "agentId  additional_data                       \n",
       "0        {'is_incoming': True}                      115\n",
       "2        {'is_incoming': False}                    3692\n",
       "         {'is_incoming': True}                      329\n",
       "         {'duration': 0, 'is_incoming': True}         4\n",
       "         {'duration': 0, 'is_incoming': False}        3\n",
       "                                                   ... \n",
       "10       {'duration': 95, 'is_incoming': False}       1\n",
       "         {'duration': 97, 'is_incoming': False}       1\n",
       "         {'duration': 97, 'is_incoming': True}        1\n",
       "         {'duration': 98, 'is_incoming': True}        1\n",
       "         {'duration': 99, 'is_incoming': True}        1\n",
       "Name: additional_data, Length: 925, dtype: int64"
      ]
     },
     "execution_count": 16,
     "metadata": {},
     "output_type": "execute_result"
    }
   ],
   "source": [
    "Incoming_conversion = train.groupby(\"agentId\")[\"additional_data\"].value_counts()\n",
    "Incoming_conversion"
   ]
  },
  {
   "cell_type": "code",
   "execution_count": 17,
   "metadata": {},
   "outputs": [
    {
     "data": {
      "image/png": "[encoded data removed]",
      "text/plain": [
       "<Figure size 1080x576 with 1 Axes>"
      ]
     },
     "metadata": {
      "needs_background": "light"
     },
     "output_type": "display_data"
    }
   ],
   "source": [
    "plt.figure(figsize = (15,8))\n",
    "sns.countplot('followup_type',data=train,palette=\"spring\")\n",
    "plt.title(\"No. of incomings on the follow_up type\",fontsize=18)\n",
    "plt.xlabel(\"followup_type\",fontsize=13)\n",
    "plt.ylabel('additional_data',fontsize=13)\n",
    "plt.show()"
   ]
  },
  {
   "cell_type": "code",
   "execution_count": 18,
   "metadata": {},
   "outputs": [
    {
     "data": {
      "text/plain": [
       "4     15290\n",
       "10    11655\n",
       "5     11241\n",
       "9      9281\n",
       "7      7819\n",
       "6      5606\n",
       "2      4086\n",
       "8      2732\n",
       "3       529\n",
       "0       115\n",
       "Name: agentId, dtype: int64"
      ]
     },
     "execution_count": 18,
     "metadata": {},
     "output_type": "execute_result"
    }
   ],
   "source": [
    "train['agentId'].value_counts()"
   ]
  },
  {
   "cell_type": "code",
   "execution_count": 19,
   "metadata": {},
   "outputs": [],
   "source": [
    "train['agentId']=np.where(train['id']>1,'emails','textmessages')"
   ]
  },
  {
   "cell_type": "code",
   "execution_count": 20,
   "metadata": {},
   "outputs": [
    {
     "ename": "ValueError",
     "evalue": "could not convert string to float: '2020-03-05 14:38:54'",
     "output_type": "error",
     "traceback": [
      "\u001b[1;31m---------------------------------------------------------------------------\u001b[0m",
      "\u001b[1;31mValueError\u001b[0m                                Traceback (most recent call last)",
      "\u001b[1;32m<ipython-input-20-ea54eccd2d05>\u001b[0m in \u001b[0;36m<module>\u001b[1;34m\u001b[0m\n\u001b[0;32m      4\u001b[0m \u001b[0mcolors\u001b[0m \u001b[1;33m=\u001b[0m \u001b[1;33m[\u001b[0m\u001b[1;34m'#00DDAA'\u001b[0m\u001b[1;33m,\u001b[0m \u001b[1;34m'#9977FF'\u001b[0m\u001b[1;33m]\u001b[0m\u001b[1;33m\u001b[0m\u001b[1;33m\u001b[0m\u001b[0m\n\u001b[0;32m      5\u001b[0m \u001b[0mplt\u001b[0m\u001b[1;33m.\u001b[0m\u001b[0mfigure\u001b[0m\u001b[1;33m(\u001b[0m\u001b[0mfigsize\u001b[0m \u001b[1;33m=\u001b[0m \u001b[1;33m(\u001b[0m\u001b[1;36m8\u001b[0m\u001b[1;33m,\u001b[0m\u001b[1;36m6\u001b[0m\u001b[1;33m)\u001b[0m\u001b[1;33m)\u001b[0m\u001b[1;33m\u001b[0m\u001b[1;33m\u001b[0m\u001b[0m\n\u001b[1;32m----> 6\u001b[1;33m plt.pie(sizes, labels=labels, colors=colors,\n\u001b[0m\u001b[0;32m      7\u001b[0m         autopct='%1.1f%%', shadow=True,startangle=90)\n\u001b[0;32m      8\u001b[0m \u001b[0mplt\u001b[0m\u001b[1;33m.\u001b[0m\u001b[0mtitle\u001b[0m\u001b[1;33m(\u001b[0m\u001b[1;34m'Result'\u001b[0m\u001b[1;33m,\u001b[0m\u001b[0mfontsize\u001b[0m\u001b[1;33m=\u001b[0m\u001b[1;36m18\u001b[0m\u001b[1;33m)\u001b[0m\u001b[1;33m\u001b[0m\u001b[1;33m\u001b[0m\u001b[0m\n",
      "\u001b[1;32m~\\anaconda3\\lib\\site-packages\\matplotlib\\pyplot.py\u001b[0m in \u001b[0;36mpie\u001b[1;34m(x, explode, labels, colors, autopct, pctdistance, shadow, labeldistance, startangle, radius, counterclock, wedgeprops, textprops, center, frame, rotatelabels, data)\u001b[0m\n\u001b[0;32m   2746\u001b[0m         \u001b[0mwedgeprops\u001b[0m\u001b[1;33m=\u001b[0m\u001b[1;32mNone\u001b[0m\u001b[1;33m,\u001b[0m \u001b[0mtextprops\u001b[0m\u001b[1;33m=\u001b[0m\u001b[1;32mNone\u001b[0m\u001b[1;33m,\u001b[0m \u001b[0mcenter\u001b[0m\u001b[1;33m=\u001b[0m\u001b[1;33m(\u001b[0m\u001b[1;36m0\u001b[0m\u001b[1;33m,\u001b[0m \u001b[1;36m0\u001b[0m\u001b[1;33m)\u001b[0m\u001b[1;33m,\u001b[0m \u001b[0mframe\u001b[0m\u001b[1;33m=\u001b[0m\u001b[1;32mFalse\u001b[0m\u001b[1;33m,\u001b[0m\u001b[1;33m\u001b[0m\u001b[1;33m\u001b[0m\u001b[0m\n\u001b[0;32m   2747\u001b[0m         rotatelabels=False, *, data=None):\n\u001b[1;32m-> 2748\u001b[1;33m     return gca().pie(\n\u001b[0m\u001b[0;32m   2749\u001b[0m         \u001b[0mx\u001b[0m\u001b[1;33m,\u001b[0m \u001b[0mexplode\u001b[0m\u001b[1;33m=\u001b[0m\u001b[0mexplode\u001b[0m\u001b[1;33m,\u001b[0m \u001b[0mlabels\u001b[0m\u001b[1;33m=\u001b[0m\u001b[0mlabels\u001b[0m\u001b[1;33m,\u001b[0m \u001b[0mcolors\u001b[0m\u001b[1;33m=\u001b[0m\u001b[0mcolors\u001b[0m\u001b[1;33m,\u001b[0m\u001b[1;33m\u001b[0m\u001b[1;33m\u001b[0m\u001b[0m\n\u001b[0;32m   2750\u001b[0m         \u001b[0mautopct\u001b[0m\u001b[1;33m=\u001b[0m\u001b[0mautopct\u001b[0m\u001b[1;33m,\u001b[0m \u001b[0mpctdistance\u001b[0m\u001b[1;33m=\u001b[0m\u001b[0mpctdistance\u001b[0m\u001b[1;33m,\u001b[0m \u001b[0mshadow\u001b[0m\u001b[1;33m=\u001b[0m\u001b[0mshadow\u001b[0m\u001b[1;33m,\u001b[0m\u001b[1;33m\u001b[0m\u001b[1;33m\u001b[0m\u001b[0m\n",
      "\u001b[1;32m~\\anaconda3\\lib\\site-packages\\matplotlib\\__init__.py\u001b[0m in \u001b[0;36minner\u001b[1;34m(ax, data, *args, **kwargs)\u001b[0m\n\u001b[0;32m   1563\u001b[0m     \u001b[1;32mdef\u001b[0m \u001b[0minner\u001b[0m\u001b[1;33m(\u001b[0m\u001b[0max\u001b[0m\u001b[1;33m,\u001b[0m \u001b[1;33m*\u001b[0m\u001b[0margs\u001b[0m\u001b[1;33m,\u001b[0m \u001b[0mdata\u001b[0m\u001b[1;33m=\u001b[0m\u001b[1;32mNone\u001b[0m\u001b[1;33m,\u001b[0m \u001b[1;33m**\u001b[0m\u001b[0mkwargs\u001b[0m\u001b[1;33m)\u001b[0m\u001b[1;33m:\u001b[0m\u001b[1;33m\u001b[0m\u001b[1;33m\u001b[0m\u001b[0m\n\u001b[0;32m   1564\u001b[0m         \u001b[1;32mif\u001b[0m \u001b[0mdata\u001b[0m \u001b[1;32mis\u001b[0m \u001b[1;32mNone\u001b[0m\u001b[1;33m:\u001b[0m\u001b[1;33m\u001b[0m\u001b[1;33m\u001b[0m\u001b[0m\n\u001b[1;32m-> 1565\u001b[1;33m             \u001b[1;32mreturn\u001b[0m \u001b[0mfunc\u001b[0m\u001b[1;33m(\u001b[0m\u001b[0max\u001b[0m\u001b[1;33m,\u001b[0m \u001b[1;33m*\u001b[0m\u001b[0mmap\u001b[0m\u001b[1;33m(\u001b[0m\u001b[0msanitize_sequence\u001b[0m\u001b[1;33m,\u001b[0m \u001b[0margs\u001b[0m\u001b[1;33m)\u001b[0m\u001b[1;33m,\u001b[0m \u001b[1;33m**\u001b[0m\u001b[0mkwargs\u001b[0m\u001b[1;33m)\u001b[0m\u001b[1;33m\u001b[0m\u001b[1;33m\u001b[0m\u001b[0m\n\u001b[0m\u001b[0;32m   1566\u001b[0m \u001b[1;33m\u001b[0m\u001b[0m\n\u001b[0;32m   1567\u001b[0m         \u001b[0mbound\u001b[0m \u001b[1;33m=\u001b[0m \u001b[0mnew_sig\u001b[0m\u001b[1;33m.\u001b[0m\u001b[0mbind\u001b[0m\u001b[1;33m(\u001b[0m\u001b[0max\u001b[0m\u001b[1;33m,\u001b[0m \u001b[1;33m*\u001b[0m\u001b[0margs\u001b[0m\u001b[1;33m,\u001b[0m \u001b[1;33m**\u001b[0m\u001b[0mkwargs\u001b[0m\u001b[1;33m)\u001b[0m\u001b[1;33m\u001b[0m\u001b[1;33m\u001b[0m\u001b[0m\n",
      "\u001b[1;32m~\\anaconda3\\lib\\site-packages\\matplotlib\\axes\\_axes.py\u001b[0m in \u001b[0;36mpie\u001b[1;34m(self, x, explode, labels, colors, autopct, pctdistance, shadow, labeldistance, startangle, radius, counterclock, wedgeprops, textprops, center, frame, rotatelabels)\u001b[0m\n\u001b[0;32m   2910\u001b[0m         \u001b[1;31m# The use of float32 is \"historical\", but can't be changed without\u001b[0m\u001b[1;33m\u001b[0m\u001b[1;33m\u001b[0m\u001b[1;33m\u001b[0m\u001b[0m\n\u001b[0;32m   2911\u001b[0m         \u001b[1;31m# regenerating the test baselines.\u001b[0m\u001b[1;33m\u001b[0m\u001b[1;33m\u001b[0m\u001b[1;33m\u001b[0m\u001b[0m\n\u001b[1;32m-> 2912\u001b[1;33m         \u001b[0mx\u001b[0m \u001b[1;33m=\u001b[0m \u001b[0mnp\u001b[0m\u001b[1;33m.\u001b[0m\u001b[0masarray\u001b[0m\u001b[1;33m(\u001b[0m\u001b[0mx\u001b[0m\u001b[1;33m,\u001b[0m \u001b[0mnp\u001b[0m\u001b[1;33m.\u001b[0m\u001b[0mfloat32\u001b[0m\u001b[1;33m)\u001b[0m\u001b[1;33m\u001b[0m\u001b[1;33m\u001b[0m\u001b[0m\n\u001b[0m\u001b[0;32m   2913\u001b[0m         \u001b[1;32mif\u001b[0m \u001b[0mx\u001b[0m\u001b[1;33m.\u001b[0m\u001b[0mndim\u001b[0m \u001b[1;33m!=\u001b[0m \u001b[1;36m1\u001b[0m \u001b[1;32mand\u001b[0m \u001b[0mx\u001b[0m\u001b[1;33m.\u001b[0m\u001b[0msqueeze\u001b[0m\u001b[1;33m(\u001b[0m\u001b[1;33m)\u001b[0m\u001b[1;33m.\u001b[0m\u001b[0mndim\u001b[0m \u001b[1;33m<=\u001b[0m \u001b[1;36m1\u001b[0m\u001b[1;33m:\u001b[0m\u001b[1;33m\u001b[0m\u001b[1;33m\u001b[0m\u001b[0m\n\u001b[0;32m   2914\u001b[0m             cbook.warn_deprecated(\n",
      "\u001b[1;32m~\\anaconda3\\lib\\site-packages\\numpy\\core\\_asarray.py\u001b[0m in \u001b[0;36masarray\u001b[1;34m(a, dtype, order)\u001b[0m\n\u001b[0;32m     83\u001b[0m \u001b[1;33m\u001b[0m\u001b[0m\n\u001b[0;32m     84\u001b[0m     \"\"\"\n\u001b[1;32m---> 85\u001b[1;33m     \u001b[1;32mreturn\u001b[0m \u001b[0marray\u001b[0m\u001b[1;33m(\u001b[0m\u001b[0ma\u001b[0m\u001b[1;33m,\u001b[0m \u001b[0mdtype\u001b[0m\u001b[1;33m,\u001b[0m \u001b[0mcopy\u001b[0m\u001b[1;33m=\u001b[0m\u001b[1;32mFalse\u001b[0m\u001b[1;33m,\u001b[0m \u001b[0morder\u001b[0m\u001b[1;33m=\u001b[0m\u001b[0morder\u001b[0m\u001b[1;33m)\u001b[0m\u001b[1;33m\u001b[0m\u001b[1;33m\u001b[0m\u001b[0m\n\u001b[0m\u001b[0;32m     86\u001b[0m \u001b[1;33m\u001b[0m\u001b[0m\n\u001b[0;32m     87\u001b[0m \u001b[1;33m\u001b[0m\u001b[0m\n",
      "\u001b[1;31mValueError\u001b[0m: could not convert string to float: '2020-03-05 14:38:54'"
     ]
    },
    {
     "data": {
      "image/png": "[encoded data removed]",
      "text/plain": [
       "<Figure size 576x432 with 1 Axes>"
      ]
     },
     "metadata": {
      "needs_background": "light"
     },
     "output_type": "display_data"
    }
   ],
   "source": [
    "Data= train.agentId.value_counts()\n",
    "labels=np.array(train.index)\n",
    "sizes = train.values\n",
    "colors = ['#00DDAA', '#9977FF']\n",
    "plt.figure(figsize = (8,6))\n",
    "plt.pie(sizes, labels=labels, colors=colors,\n",
    "        autopct='%1.1f%%', shadow=True,startangle=90)\n",
    "plt.title('Result',fontsize=18)\n",
    "plt.axis('equal',fontsize=8)\n",
    "plt.show()\n",
    "float()"
   ]
  },
  {
   "cell_type": "code",
   "execution_count": null,
   "metadata": {},
   "outputs": [],
   "source": [
    "plt.figure(figsize=(25,7))\n",
    "sns.countplot('additional_data',data=train,palette='ocean')\n",
    "plt.show()"
   ]
  },
  {
   "cell_type": "code",
   "execution_count": null,
   "metadata": {},
   "outputs": [],
   "source": []
  },
  {
   "cell_type": "code",
   "execution_count": null,
   "metadata": {},
   "outputs": [],
   "source": []
  }
 ],
 "metadata": {
  "kernelspec": {
   "display_name": "Python 3",
   "language": "python",
   "name": "python3"
  },
  "language_info": {
   "codemirror_mode": {
    "name": "ipython",
    "version": 3
   },
   "file_extension": ".py",
   "mimetype": "text/x-python",
   "name": "python",
   "nbconvert_exporter": "python",
   "pygments_lexer": "ipython3",
   "version": "3.8.3"
  }
 },
 "nbformat": 4,
 "nbformat_minor": 4
}
